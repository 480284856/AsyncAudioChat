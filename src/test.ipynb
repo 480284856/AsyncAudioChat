{
 "cells": [
  {
   "cell_type": "code",
   "execution_count": 1,
   "metadata": {},
   "outputs": [],
   "source": [
    "from langchain_ollama import ChatOllama "
   ]
  },
  {
   "cell_type": "code",
   "execution_count": 7,
   "metadata": {},
   "outputs": [],
   "source": [
    "model = ChatOllama(\n",
    "    model=\"jingxiaoxin:v1\",  \n",
    "    base_url=\"192.168.65.254:62707\"\n",
    ")"
   ]
  },
  {
   "cell_type": "code",
   "execution_count": 8,
   "metadata": {},
   "outputs": [
    {
     "name": "stdout",
     "output_type": "stream",
     "text": [
      "content='Hello' additional_kwargs={} response_metadata={} id='run-8b1186fe-339b-42c3-98ec-6c8e9069f264'\n",
      "content=' World' additional_kwargs={} response_metadata={} id='run-8b1186fe-339b-42c3-98ec-6c8e9069f264'\n",
      "content='!' additional_kwargs={} response_metadata={} id='run-8b1186fe-339b-42c3-98ec-6c8e9069f264'\n",
      "content='' additional_kwargs={} response_metadata={'model': 'jingxiaoxin:v1', 'created_at': '2024-09-20T03:28:29.239493556Z', 'message': {'role': 'assistant', 'content': ''}, 'done_reason': 'stop', 'done': True, 'total_duration': 154593329992, 'load_duration': 154471281319, 'prompt_eval_count': 14, 'prompt_eval_duration': 39791000, 'eval_count': 4, 'eval_duration': 78933000} id='run-8b1186fe-339b-42c3-98ec-6c8e9069f264' usage_metadata={'input_tokens': 14, 'output_tokens': 4, 'total_tokens': 18}\n"
     ]
    }
   ],
   "source": [
    "messages = [\n",
    "                (\"human\", \"Return the words Hello World!\"),\n",
    "            ]\n",
    "for chunk in model.stream(messages):\n",
    "    print(chunk)"
   ]
  },
  {
   "cell_type": "code",
   "execution_count": 10,
   "metadata": {},
   "outputs": [
    {
     "data": {
      "text/plain": [
       "''"
      ]
     },
     "execution_count": 10,
     "metadata": {},
     "output_type": "execute_result"
    }
   ],
   "source": [
    "chunk.content"
   ]
  },
  {
   "cell_type": "code",
   "execution_count": 11,
   "metadata": {},
   "outputs": [],
   "source": [
    "def __remove_first_match(s:str, sub_s:str):\n",
    "        '''从s中删除第一次出现的sub_s'''\n",
    "        if sub_s in s:\n",
    "            return s.replace(sub_s, '', 1)\n",
    "        else:\n",
    "            return s"
   ]
  },
  {
   "cell_type": "code",
   "execution_count": 13,
   "metadata": {},
   "outputs": [],
   "source": [
    "while \"\":\n",
    "    print(1)"
   ]
  },
  {
   "cell_type": "code",
   "execution_count": 14,
   "metadata": {},
   "outputs": [
    {
     "name": "stdout",
     "output_type": "stream",
     "text": [
      "1\n",
      "2\n"
     ]
    }
   ],
   "source": [
    "import queue\n",
    "\n",
    "# Create a queue\n",
    "q = queue.Queue()\n",
    "\n",
    "# Add some elements to the queue\n",
    "q.put(1)\n",
    "q.put(2)\n",
    "q.put(3)\n",
    "\n",
    "# Pop (get) elements from the queue\n",
    "element = q.get()  # Pops the first element (1)\n",
    "print(element)     # Output: 1\n",
    "\n",
    "# Continue popping\n",
    "element = q.get()  # Pops the next element (2)\n",
    "print(element)     # Output: 2\n"
   ]
  },
  {
   "cell_type": "code",
   "execution_count": 17,
   "metadata": {},
   "outputs": [
    {
     "name": "stdout",
     "output_type": "stream",
     "text": [
      "arg1: 1, arg2: 2\n",
      "args: ()\n",
      "kwarg1: 3, kwarg2: 4\n",
      "kwargs: {}\n"
     ]
    }
   ],
   "source": [
    "def example_function(arg1, arg2, kwarg1, kwarg2, *args, **kwargs):\n",
    "    print(f\"arg1: {arg1}, arg2: {arg2}\")\n",
    "    print(\"args:\", args)\n",
    "    print(f\"kwarg1: {kwarg1}, kwarg2: {kwarg2}\")\n",
    "    print(\"kwargs:\", kwargs)\n",
    "\n",
    "kwargs = {\"kwarg1\": 3, \"kwarg2\": 4}\n",
    "# Usage\n",
    "example_function(1, 2, *(), **kwargs)"
   ]
  },
  {
   "cell_type": "code",
   "execution_count": null,
   "metadata": {},
   "outputs": [],
   "source": []
  }
 ],
 "metadata": {
  "kernelspec": {
   "display_name": "Python 3",
   "language": "python",
   "name": "python3"
  },
  "language_info": {
   "codemirror_mode": {
    "name": "ipython",
    "version": 3
   },
   "file_extension": ".py",
   "mimetype": "text/x-python",
   "name": "python",
   "nbconvert_exporter": "python",
   "pygments_lexer": "ipython3",
   "version": "3.11.7"
  }
 },
 "nbformat": 4,
 "nbformat_minor": 2
}
